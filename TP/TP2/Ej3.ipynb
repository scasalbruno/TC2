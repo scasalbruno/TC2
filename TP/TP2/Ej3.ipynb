{
 "cells": [
  {
   "cell_type": "code",
   "execution_count": 111,
   "id": "aa79c286",
   "metadata": {},
   "outputs": [
    {
     "name": "stdout",
     "output_type": "stream",
     "text": [
      "Relacion normalizada de fs/fo=  3.0\n",
      "Valor de epsilon:  0.31061\n",
      "Valor minimo de n =  5\n",
      "[24.698418212655383, -24.698418212655383, -43.22223187214692, 49.39683642531077, 18.523813659491537, -30.87302276581923, 1.5436511382909615, 6.174604553163846, -1.157738353718221, -0.38591278457274036, 1.096478196143185]\n"
     ]
    },
    {
     "data": {
      "text/plain": [
       "array([-0.95463259+0.08948073j, -0.95463259-0.08948073j,\n",
       "        1.04074206+0.14815725j,  1.04074206-0.14815725j,\n",
       "        0.69564582+0.40117621j,  0.69564582-0.40117621j,\n",
       "       -0.45994555+0.28389472j, -0.45994555-0.28389472j,\n",
       "        0.17819025+0.44743295j,  0.17819025-0.44743295j])"
      ]
     },
     "execution_count": 111,
     "metadata": {},
     "output_type": "execute_result"
    }
   ],
   "source": [
    "import math\n",
    "import numpy as np\n",
    "import splane as sp\n",
    "alpha_min = 48\n",
    "alpha_max = 0.4\n",
    "fo=3200\n",
    "fs=9600\n",
    "fn=1\n",
    "ws=fs/fo\n",
    "print (\"Relacion normalizada de fs/fo= \", ws)\n",
    "\n",
    "ep = np.sqrt(10**(alpha_max / 10)-1)\n",
    "print(\"Valor de epsilon: \",  round(ep,5))\n",
    "\n",
    "n = np.arccosh(np.sqrt((10**(alpha_min/10)-1)/ep**2))/np.arccosh(ws)\n",
    "if n != math.trunc(n):\n",
    "    n = math.trunc(n) + 1\n",
    "print(\"Valor minimo de n = \", n)\n",
    "a = 16\n",
    "b = -8\n",
    "c = -16\n",
    "d = 8 \n",
    "e = 2\n",
    "f = -1\n",
    "polcheb = [a**2,\n",
    "           2*a*b,\n",
    "           2*a*c + b**2,\n",
    "           2*a*d + 2*c*b,\n",
    "           2*a*e + 2*b*d + c**2,\n",
    "           2*a*f + 2*b*e + 2*c*d,\n",
    "           2*b*f + 2*c*e + d**2,\n",
    "           2*f*c + 2*d*e,\n",
    "           2*f*d + 2**e,\n",
    "           2*e*f,\n",
    "           f**2]\n",
    "\n",
    "\n",
    "for i in range (11):\n",
    "    polcheb[i]*= ep**2 \n",
    "\n",
    "\n",
    "polcheb[10]+=1\n",
    "\n",
    "print(polcheb)\n",
    "\n",
    "np.roots(polcheb)\n",
    "\n",
    "#for i in range(10):\n",
    " #   if(root[i]<0): print (root[i])\n"
   ]
  },
  {
   "cell_type": "code",
   "execution_count": null,
   "id": "4c00e8ad",
   "metadata": {},
   "outputs": [],
   "source": []
  },
  {
   "cell_type": "code",
   "execution_count": null,
   "id": "8586929f",
   "metadata": {},
   "outputs": [],
   "source": []
  }
 ],
 "metadata": {
  "kernelspec": {
   "display_name": "Python 3 (ipykernel)",
   "language": "python",
   "name": "python3"
  },
  "language_info": {
   "codemirror_mode": {
    "name": "ipython",
    "version": 3
   },
   "file_extension": ".py",
   "mimetype": "text/x-python",
   "name": "python",
   "nbconvert_exporter": "python",
   "pygments_lexer": "ipython3",
   "version": "3.9.7"
  }
 },
 "nbformat": 4,
 "nbformat_minor": 5
}
