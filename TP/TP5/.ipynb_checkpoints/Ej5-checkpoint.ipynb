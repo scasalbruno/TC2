{
 "cells": [
  {
   "cell_type": "markdown",
   "metadata": {},
   "source": [
    "Dado el sistema discreto $H_{(z)}=\\frac{z}{z−0.8}$, determine la expresión de Y[n] al excitarlo con una señal $X[n]=20\\cos(\\frac{pi.n}{2}+30º)$"
   ]
  },
  {
   "cell_type": "markdown",
   "metadata": {},
   "source": [
    "* Primero hallamos la transformada Z de X[n]\n",
    "\n",
    "Se decide aplicar la propiedad del coseno: $Cos(\\alpha+\\beta)=Cos(\\alpha).Cos(\\beta) - Sen(\\alpha).Sen(\\beta)$ resultando en el siguiente X[n]:\n",
    " \n",
    "$$\n",
    "X_{[n]}= 20.[~Cos(\\frac{\\pi}{2}n).Cos(30°) - Sen(\\frac{\\pi}{2}n).Sen(30°)~]\n",
    "$$\n",
    "\n",
    "Recordando que el Cos(30°) es $\\frac{\\sqrt{3}}{2}$ y el Sen(30°) es $\\frac{1}{2}$ dando como resultado:\n",
    "\n",
    "$$\n",
    "X_{[n]} = 10 . [\\sqrt{3}.Cos(\\frac{\\pi}{2}n)-Sen(\\frac{\\pi}{2}n)]\n",
    "$$\n",
    "\n",
    "Aplicamos la transformada de la suma es la suma de las transformadas resultando:\n",
    "\n",
    "* En el caso del Coseno:\n",
    "Recordar que $Cos(\\frac{\\pi}{2})$ = 0\n",
    "\n",
    "$$\n",
    "    W_1 = 10.\\sqrt3.\\frac{1-Z^{-1}Cos(\\frac{\\pi}{2})}{1-2Z^{-1}Cos(\\frac{\\pi}{2})+Z^{-2}} = 10.\\sqrt{3}.\\frac{1}{1+Z^{-2}}\n",
    "$$\n",
    "\n",
    "* En el caso del Seno:\n",
    "Rocordar que el $Sen(\\frac{\\pi}{2})$=1\n",
    "\n",
    "$$\n",
    "    W_2 = -10.\\frac{Z^{-1}Sen(\\frac{\\pi}{2})}{1-2Z^{-1}Cos(\\frac{\\pi}{2})+Z^{-2}} = -10.\\frac{Z^{-1}}{1+Z^{-2}}\n",
    "$$\n",
    "\n",
    "Resultando en un \n",
    "$$\n",
    "X_{[z]} = W_1+W_2 = 10 . \\frac{\\sqrt{3}-Z^{-1}}{1+Z^{-2}}\n",
    "$$\n",
    "\n",
    "Calculamos $Y_{[z]} = H_{[z]}.X{[z]}$\n",
    "\n",
    "$$\n",
    "Y_{[Z]} = 10.\\frac{Z}{Z-0,8}.\\frac{\\sqrt{3}Z^2-Z}{Z^2+1}= \n",
    "$$\n"
   ]
  },
  {
   "cell_type": "code",
   "execution_count": null,
   "metadata": {},
   "outputs": [],
   "source": []
  }
 ],
 "metadata": {
  "kernelspec": {
   "display_name": "Python 3",
   "language": "python",
   "name": "python3"
  },
  "language_info": {
   "codemirror_mode": {
    "name": "ipython",
    "version": 3
   },
   "file_extension": ".py",
   "mimetype": "text/x-python",
   "name": "python",
   "nbconvert_exporter": "python",
   "pygments_lexer": "ipython3",
   "version": "3.8.5"
  }
 },
 "nbformat": 4,
 "nbformat_minor": 4
}
