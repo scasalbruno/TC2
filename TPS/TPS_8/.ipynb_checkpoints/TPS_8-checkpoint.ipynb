{
 "cells": [
  {
   "cell_type": "markdown",
   "metadata": {},
   "source": [
    "<img src=\"./Logo_UTN.jpg\" alt=\"Logo utn\" width=\"250\" align=\"right\" ><br><br><br><br>\n",
    "<h1 style=\"text-align:center\"> Trabajo Practico Semanal 8</h1>"
   ]
  },
  {
   "attachments": {
    "image.png": {
     "image/png": "[encoded data removed]"
    }
   },
   "cell_type": "markdown",
   "metadata": {},
   "source": [
    "### Ejercicio Solicitado 1\n",
    "\n",
    "![image.png](attachment:image.png)\n",
    "\n",
    "##### Se piden los siguiente puntos:\n",
    "\n",
    "##### Análisis de cuadripolos\n",
    "\n",
    "* Obtener la transferencia de tensión fracción V subíndice o entre V subíndice i por método de cuadripolos (se sugiere referirse a alguno de los métodos de interconexión ya vistos). Ayuda: si C subíndice 2 igual $\\frac{4}{3}$(se utilizó 1.333 para la simulación), los polos de la transferencia están ubicados sobre una circunferencia de radio unitario.\n",
    "* Valide la transferencia con simulación circuital.\n",
    "\n",
    "##### Análisis matricial\n",
    "\n",
    "* Construya la matriz de admitancia indefinida (MAI) del circuito.\n",
    "* Compute la transferencia de tensión con la MAI.\n",
    "\n"
   ]
  },
  {
   "cell_type": "markdown",
   "metadata": {},
   "source": [
    "##### Resolucion: \n",
    " \n",
    "* Se analiza primero el caso de la MAI para luego analizar el caso particular de cuadripolos\n",
    "\n",
    "    Se propone el siguiente circuito:\n",
    "\n",
    "## Foto del circuito V1-V3\n",
    "\n",
    "* Donde $V_1$ representa la entrada, $V_2$ representa la referencia comun del cuadripolo y $V_3$ representa la salida\n",
    "\n",
    "    Para esto analizamos los casos resultando en las siguientes relaciones:\n",
    "    \n",
    "    * $Y_{11} = \\frac{( Y_3 + Y_2 ).Y_1}{Y_1+Y_2+Y_3}$\n",
    "    \n",
    "    * $Y_{12} = Y_{21} = - \\frac{Y_2.Y_1}{Y_1+Y_2+Y_3}$\n",
    "    \n",
    "    * $Y_{13} = Y_{31} = - \\frac{Y_3.Y_1}{Y_1+Y_2+Y_3}$\n",
    "    \n",
    "    * $Y_{22} = \\frac{(Y_3+Y_1).Y_2}{Y_1+Y_2+Y_3} + G$\n",
    "    \n",
    "    * $Y_{23} = Y_ {32} = - \\frac{Y_2.Y_3}{Y_1+Y_2+Y_3} - G$\n",
    "    \n",
    "    * $Y_{33} = \\frac{(Y_1+Y_2).Y_3}{Y_1+Y_2+Y_3} + G$\n",
    "\n",
    "* Teniendo la siguiente matriz admitancia indefinida (MAI):\n",
    "\n",
    "    \n",
    "$$\n",
    "\\left(\n",
    "\\begin{array}{ll}\n",
    "    Y_{11} & Y_{12} & Y_{13}\\\\\n",
    "    Y_{21} & Y_{22} & Y_{23}\\\\\n",
    "    Y_{31} & Y_{32} & Y_{33}\n",
    "\\end{array}\n",
    "\\right)\n",
    "$$\n",
    "* Si reemplazamos los valores nos termina resultando:\n",
    "    \n",
    "$$\n",
    "\\left(\n",
    "\\begin{array}{3}\n",
    "    \\frac{( Y_3 + Y_2 ).Y_1}{Y_1+Y_2+Y_3} & - \\frac{Y_2.Y_1}{Y_1+Y_2+Y_3} & - \\frac{Y_3.Y_1}{Y_1+Y_2+Y_3}\\\\\n",
    "    - \\frac{Y_2.Y_1}{Y_1+Y_2+Y_3} & \\frac{(Y_3+Y_1).Y_2}{Y_1+Y_2+Y_3} + G & - \\frac{Y_2.Y_3}{Y_1+Y_2+Y_3} - G\\\\\n",
    "    - \\frac{Y_3.Y_1}{Y_1+Y_2+Y_3} & - \\frac{Y_2.Y_3}{Y_1+Y_2+Y_3} - G& \\frac{(Y_1+Y_2).Y_3}{Y_1+Y_2+Y_3} + G\n",
    "\\end{array}\n",
    "\\right)\n",
    "$$\n",
    "\n",
    "Nota: verifica que la sumatoria completa de cualquier fila o columna da 0 "
   ]
  },
  {
   "cell_type": "markdown",
   "metadata": {},
   "source": [
    "* Procedemos a simular la transeferncia y ver si cumple "
   ]
  },
  {
   "cell_type": "code",
   "execution_count": 1,
   "metadata": {},
   "outputs": [],
   "source": [
    "#Codigo de simulacion"
   ]
  },
  {
   "cell_type": "markdown",
   "metadata": {},
   "source": [
    "* Analizamos para el caso especifico de $V_2$ como referencia (Caso cuadripolos)\n",
    "\n",
    "    Esto significa que usariamos la ultima columna de nuestra matriz donde nos quedaria lo siguientes:\n",
    "    \n",
    "    $$\n",
    "    I_3 = Y_{31}.V_1 + Y_{32}.V_2 + Y_{33}.V_3\n",
    "    $$\n",
    "    \n",
    "    Donde, para el caso de estudio $V_2$ = 0 por ser referencia, y $I_3$ = 0 por ser el caso de estudio y si reemplazamos quedaria:\n",
    "    \n",
    "    $$\n",
    "    0 = Y_{31}.V_1 + Y_{33}.V_3~~=>~~\\frac{V_3}{V_1}=H_{(\\$)} = - \\frac {Y_{31}}{Y_{33}} = - \\frac{Y_3.Y_1}{Y_3.(Y_1+Y_2)+G.(Y_1+Y_2+Y_3)}\n",
    "    $$\n",
    "    \n",
    "    Reemplazando con los valores nos da el siguiente resultado final:\n",
    "    * Recodando que las admitancias tienen los siguientes valores: \n",
    "    \n",
    "    $$ \n",
    "    Y_1 = \\$L_1~~~~Y_2 = \\frac{1}{\\$C_2}~~~~Y_3 = \\$L_3 ~~~~G =\\frac{1}{R} \n",
    "    $$\n",
    "    \n",
    "  Dandonos la siguiente respuesta:\n",
    "  \n",
    "  $$\n",
    "  H_{(\\$)} = - \\frac{\\$^3}{\\$^3+\\$^2\\frac{L_1+L_3}{L_1.L_3.R}+\\$\\frac{1}{L_1.C_2}+\\frac{1}{R.L_1.C_2.L_3}}\n",
    "  $$\n",
    "  \n",
    "  Tomando que:\n",
    "  \n",
    "  $$\n",
    "  R = 1 ~~~~ L_1 = \\frac{3}{2}~~~~C_2 = \\frac{4}{3}~~~~L_3 = \\frac{1}{2} \n",
    "  $$\n",
    "  \n",
    "  La transferencia resultante con la siguiente normalizacion es de:\n",
    "  \n",
    "  $$\n",
    "  H_{(\\$)} = - \\frac{\\$^3}{\\$^3+\\$^2\\frac{8}{3}+\\$\\frac{1}{2}+1}\n",
    "  $$"
   ]
  },
  {
   "cell_type": "code",
   "execution_count": null,
   "metadata": {},
   "outputs": [],
   "source": []
  }
 ],
 "metadata": {
  "kernelspec": {
   "display_name": "Python 3",
   "language": "python",
   "name": "python3"
  },
  "language_info": {
   "codemirror_mode": {
    "name": "ipython",
    "version": 3
   },
   "file_extension": ".py",
   "mimetype": "text/x-python",
   "name": "python",
   "nbconvert_exporter": "python",
   "pygments_lexer": "ipython3",
   "version": "3.8.5"
  }
 },
 "nbformat": 4,
 "nbformat_minor": 4
}
